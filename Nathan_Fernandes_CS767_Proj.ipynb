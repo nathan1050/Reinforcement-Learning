{
 "cells": [
  {
   "cell_type": "markdown",
   "metadata": {},
   "source": [
    "# Nathan Fernandes"
   ]
  },
  {
   "cell_type": "markdown",
   "metadata": {},
   "source": [
    "## Project - CS 767"
   ]
  },
  {
   "cell_type": "markdown",
   "metadata": {},
   "source": [
    "# Importing Dependencies"
   ]
  },
  {
   "cell_type": "code",
   "execution_count": 1,
   "metadata": {},
   "outputs": [
    {
     "name": "stderr",
     "output_type": "stream",
     "text": [
      "/Users/nathan/opt/anaconda3/envs/machine_lr/lib/python3.9/site-packages/ale_py/roms/__init__.py:94: DeprecationWarning: Automatic importing of atari-py roms won't be supported in future releases of ale-py. Please migrate over to using `ale-import-roms` OR an ALE-supported ROM package. To make this warning disappear you can run `ale-import-roms --import-from-pkg atari_py.atari_roms`.For more information see: https://github.com/mgbellemare/Arcade-Learning-Environment#rom-management\n",
      "  _RESOLVED_ROMS = _resolve_roms()\n"
     ]
    }
   ],
   "source": [
    "import gym \n",
    "import random\n",
    "\n",
    "import numpy as np\n",
    "from tensorflow.keras.models import Sequential\n",
    "from tensorflow.keras.layers import Dense, Flatten, Convolution2D\n",
    "from tensorflow.keras.optimizers import Adam, RMSprop\n",
    "\n",
    "from rl.agents import DQNAgent\n",
    "from rl.memory import SequentialMemory\n",
    "from rl.policy import LinearAnnealedPolicy, EpsGreedyQPolicy, BoltzmannQPolicy"
   ]
  },
  {
   "cell_type": "markdown",
   "metadata": {},
   "source": [
    "## Building environment using Open AI Gym"
   ]
  },
  {
   "cell_type": "code",
   "execution_count": 2,
   "metadata": {},
   "outputs": [
    {
     "name": "stderr",
     "output_type": "stream",
     "text": [
      "A.L.E: Arcade Learning Environment (version +978d2ce)\n",
      "[Powered by Stella]\n"
     ]
    }
   ],
   "source": [
    "env = gym.make('SpaceInvaders-v0')\n",
    "\n",
    "# Taking height, width and channels from  environment, that gives the image shape\n",
    "height, width, channels = env.observation_space.shape\n",
    "actions = env.action_space.n"
   ]
  },
  {
   "cell_type": "code",
   "execution_count": 3,
   "metadata": {},
   "outputs": [
    {
     "data": {
      "text/plain": [
       "6"
      ]
     },
     "execution_count": 3,
     "metadata": {},
     "output_type": "execute_result"
    }
   ],
   "source": [
    "actions"
   ]
  },
  {
   "cell_type": "code",
   "execution_count": 4,
   "metadata": {},
   "outputs": [
    {
     "data": {
      "text/plain": [
       "['NOOP', 'FIRE', 'RIGHT', 'LEFT', 'RIGHTFIRE', 'LEFTFIRE']"
      ]
     },
     "execution_count": 4,
     "metadata": {},
     "output_type": "execute_result"
    }
   ],
   "source": [
    "env.unwrapped.get_action_meanings()"
   ]
  },
  {
   "cell_type": "markdown",
   "metadata": {},
   "source": [
    "**NOOP** - It's not actualy doing anything    \n",
    "**FIRE** - Firing the cannon at 90 degrees     \n",
    "**RIGHT** - Move one step to the right    \n",
    "**LEFT** - Move one step to the left   \n",
    "**RIGHTFIRE** - Firing the cannon to the right    \n",
    "**LEFTFIRE** - Firing the cannon to the left"
   ]
  },
  {
   "cell_type": "markdown",
   "metadata": {},
   "source": [
    "Running through random steps to see how a pre trained model works     \n",
    "Trying   10 different games    \n"
   ]
  },
  {
   "cell_type": "code",
   "execution_count": 4,
   "metadata": {},
   "outputs": [
    {
     "name": "stderr",
     "output_type": "stream",
     "text": [
      "/Users/nathan/opt/anaconda3/envs/machine_lr/lib/python3.9/site-packages/gym/envs/atari/environment.py:255: UserWarning: \u001b[33mWARN: We strongly suggest supplying `render_mode` when constructing your environment, e.g., gym.make(ID, render_mode='human'). Using `render_mode` provides access to proper scaling, audio support, and proper framerates.\u001b[0m\n",
      "  logger.warn(\n",
      "2021-11-30 16:06:37.467 python[29080:308386] Warning: Expected min height of view: (<NSPopoverTouchBarItemButton: 0x7fa742771ef0>) to be less than or equal to 30 but got a height of 32.000000. This error will be logged once per view in violation.\n",
      "2021-11-30 16:06:37.467 python[29080:308386] Warning: Expected min height of view: (<NSButton: 0x7fa741e8b3e0>) to be less than or equal to 30 but got a height of 32.000000. This error will be logged once per view in violation.\n",
      "2021-11-30 16:06:37.471 python[29080:308386] Warning: Expected min height of view: (<NSPopoverTouchBarItemButton: 0x7fa741e71e20>) to be less than or equal to 30 but got a height of 32.000000. This error will be logged once per view in violation.\n",
      "2021-11-30 16:06:37.474 python[29080:308386] Warning: Expected min height of view: (<NSPopoverTouchBarItemButton: 0x7fa73c7c2950>) to be less than or equal to 30 but got a height of 32.000000. This error will be logged once per view in violation.\n"
     ]
    },
    {
     "name": "stdout",
     "output_type": "stream",
     "text": [
      "Episode:1 Score:20.0\n",
      "Episode:2 Score:210.0\n",
      "Episode:3 Score:160.0\n",
      "Episode:4 Score:215.0\n",
      "Episode:5 Score:110.0\n"
     ]
    }
   ],
   "source": [
    "episodes = 10\n",
    "for episode in range(1, episodes+1):\n",
    "    state = env.reset()\n",
    "    done = False\n",
    "    score = 0 \n",
    "    \n",
    "    while not done:\n",
    "        env.render()\n",
    "        action = random.choice([0,1,2,3,4,5]) # going to choose any of the 6 actions randomly\n",
    "        n_state, reward, done, info = env.step(action) # Taking the random action and applying it on our environment\n",
    "        score+=reward # Append the score\n",
    "    print('Episode:{} Score:{}'.format(episode, score))\n",
    "env.close()"
   ]
  },
  {
   "cell_type": "markdown",
   "metadata": {},
   "source": [
    "# Building Model"
   ]
  },
  {
   "cell_type": "markdown",
   "metadata": {},
   "source": [
    "Building a convolution layered Neural Network"
   ]
  },
  {
   "cell_type": "markdown",
   "metadata": {},
   "source": [
    "I am going to extract height, width and channels from our environment     \n",
    "What we get back from our state is actually an image, so I used a Convolution Layer to scan through that image and see how my model is performing and then flatten it down     \n",
    "We start by training 32 Convolution Filters. These filters are going to be 8 units by 8 units    \n",
    "4 x 4 ar the number of strides of the filter. Therefore if my images is 8x8 and my filter is 4x4, it will scan the image 4 steps to the right and 4 steps down.     \n",
    "Then I've used the 'relu' activation function.     \n",
    "Then I'm passing all of these frames from my reinforcement learning model to my deep learning model    \n",
    "That's the first Convolution Layer    \n",
    "The next Layer has 64, 4x4 filters\n",
    "I then passed it to the Dense Layer. They are also know as fully connected layers, that means that each unit in that layer is connected to every single unit in the next.    \n",
    "At the last layer, I passed on the number of action the model can take. We know that to be 6."
   ]
  },
  {
   "cell_type": "code",
   "execution_count": 4,
   "metadata": {},
   "outputs": [],
   "source": [
    "def model_test(height, width, channels, actions):\n",
    "    model = Sequential()\n",
    "    model.add(Convolution2D(32, (8,8), strides=(4,4), activation='relu', input_shape=(3,height, width, channels)))\n",
    "    model.add(Convolution2D(64, (4,4), strides=(2,2), activation='relu'))\n",
    "    model.add(Convolution2D(64, (3,3), activation='relu'))\n",
    "    model.add(Flatten())\n",
    "    model.add(Dense(512, activation='relu'))\n",
    "    model.add(Dense(256, activation='relu'))\n",
    "    model.add(Dense(actions, activation='linear'))\n",
    "    return model"
   ]
  },
  {
   "cell_type": "code",
   "execution_count": 13,
   "metadata": {},
   "outputs": [],
   "source": [
    "del model"
   ]
  },
  {
   "cell_type": "code",
   "execution_count": 5,
   "metadata": {},
   "outputs": [],
   "source": [
    "model = model_test(height, width, channels, actions)"
   ]
  },
  {
   "cell_type": "code",
   "execution_count": 6,
   "metadata": {},
   "outputs": [
    {
     "name": "stdout",
     "output_type": "stream",
     "text": [
      "Model: \"sequential\"\n",
      "_________________________________________________________________\n",
      "Layer (type)                 Output Shape              Param #   \n",
      "=================================================================\n",
      "conv2d (Conv2D)              (None, 3, 51, 39, 32)     6176      \n",
      "_________________________________________________________________\n",
      "conv2d_1 (Conv2D)            (None, 3, 24, 18, 64)     32832     \n",
      "_________________________________________________________________\n",
      "conv2d_2 (Conv2D)            (None, 3, 22, 16, 64)     36928     \n",
      "_________________________________________________________________\n",
      "flatten (Flatten)            (None, 67584)             0         \n",
      "_________________________________________________________________\n",
      "dense (Dense)                (None, 512)               34603520  \n",
      "_________________________________________________________________\n",
      "dense_1 (Dense)              (None, 256)               131328    \n",
      "_________________________________________________________________\n",
      "dense_2 (Dense)              (None, 6)                 1542      \n",
      "=================================================================\n",
      "Total params: 34,812,326\n",
      "Trainable params: 34,812,326\n",
      "Non-trainable params: 0\n",
      "_________________________________________________________________\n"
     ]
    }
   ],
   "source": [
    "model.summary()"
   ]
  },
  {
   "cell_type": "markdown",
   "metadata": {},
   "source": [
    "# Building Keras-RL Agent"
   ]
  },
  {
   "cell_type": "markdown",
   "metadata": {},
   "source": [
    "Using a Dueling DQN Agent"
   ]
  },
  {
   "cell_type": "markdown",
   "metadata": {},
   "source": [
    "**\"DQNAgent\"**    \n",
    "*This is the reinforcement agent I am using*    \n",
    "\n",
    "**\"SequentialMemory\"**     \n",
    "*This allows us to hold a knowledge buffer of our previous games or our reinforcement agent*    \n",
    "\n",
    "**\"LinearAnnealedPolicy\"**    \n",
    "*Gives us a bit of decay. Linear Annealing Policy computes a current threshold value and\n",
    "    transfers it to an inner policy which chooses the action.*\n",
    "\n",
    "**\"EpsGreedyQPolicy\"**  \n",
    "*Allows to find the best reward outcome*    \n",
    "\n",
    "A Policy is basically what the agent does to accomplish it's goal, given it's state"
   ]
  },
  {
   "cell_type": "code",
   "execution_count": 15,
   "metadata": {},
   "outputs": [],
   "source": [
    "def agent(model, actions):\n",
    "    policy = LinearAnnealedPolicy(EpsGreedyQPolicy(), attr='eps', value_max=1., value_min=.1, value_test=.2, nb_steps=10000)\n",
    "    memory = SequentialMemory(limit=1000, window_length=3) #This states that we are going to store the past 3 windows for a 1000 episodes \n",
    "    dqn = DQNAgent(model=model, memory=memory, policy=policy,\n",
    "                  enable_dueling_network=True, dueling_type='avg', \n",
    "                   nb_actions=actions, nb_steps_warmup=1000\n",
    "                  )\n",
    "    return dqn"
   ]
  },
  {
   "cell_type": "markdown",
   "metadata": {},
   "source": [
    "Then I set up a dueling network, this basically sets up a competing network for our reinforcement model"
   ]
  },
  {
   "cell_type": "code",
   "execution_count": 16,
   "metadata": {},
   "outputs": [],
   "source": [
    "dqn = agent(model, actions)\n",
    "dqn.compile(Adam(lr=1e-4))"
   ]
  },
  {
   "cell_type": "code",
   "execution_count": 23,
   "metadata": {},
   "outputs": [
    {
     "name": "stdout",
     "output_type": "stream",
     "text": [
      "Training for 5000 steps ...\n",
      "  627/5000: episode: 1, duration: 17.207s, episode steps: 627, steps per second:  36, episode reward: 110.000, mean reward:  0.175 [ 0.000, 30.000], mean action: 2.628 [0.000, 5.000],  loss: --, mean_q: --, mean_eps: --\n"
     ]
    },
    {
     "name": "stderr",
     "output_type": "stream",
     "text": [
      "/Users/nathan/opt/anaconda3/envs/machine_lr/lib/python3.9/site-packages/keras/engine/training.py:2470: UserWarning: `Model.state_updates` will be removed in a future version. This property should not be used in TensorFlow 2.0, as `updates` are applied automatically.\n",
      "  warnings.warn('`Model.state_updates` will be removed in a future version. '\n"
     ]
    },
    {
     "name": "stdout",
     "output_type": "stream",
     "text": [
      "done, took 322.197 seconds\n"
     ]
    },
    {
     "data": {
      "text/plain": [
       "<keras.callbacks.History at 0x7fdf106b0190>"
      ]
     },
     "execution_count": 23,
     "metadata": {},
     "output_type": "execute_result"
    }
   ],
   "source": [
    "dqn.fit(env, nb_steps=5000, visualize=False, verbose=2)"
   ]
  },
  {
   "cell_type": "code",
   "execution_count": 18,
   "metadata": {
    "scrolled": true
   },
   "outputs": [
    {
     "name": "stdout",
     "output_type": "stream",
     "text": [
      "Testing for 100 episodes ...\n"
     ]
    },
    {
     "name": "stderr",
     "output_type": "stream",
     "text": [
      "/Users/nathan/opt/anaconda3/envs/machine_lr/lib/python3.9/site-packages/keras/engine/training.py:2470: UserWarning: `Model.state_updates` will be removed in a future version. This property should not be used in TensorFlow 2.0, as `updates` are applied automatically.\n",
      "  warnings.warn('`Model.state_updates` will be removed in a future version. '\n",
      "/Users/nathan/opt/anaconda3/envs/machine_lr/lib/python3.9/site-packages/gym/envs/atari/environment.py:255: UserWarning: \u001b[33mWARN: We strongly suggest supplying `render_mode` when constructing your environment, e.g., gym.make(ID, render_mode='human'). Using `render_mode` provides access to proper scaling, audio support, and proper framerates.\u001b[0m\n",
      "  logger.warn(\n",
      "2021-12-08 02:48:20.441 python[23095:1419134] Warning: Expected min height of view: (<NSPopoverTouchBarItemButton: 0x7f7e1ca84820>) to be less than or equal to 30 but got a height of 32.000000. This error will be logged once per view in violation.\n",
      "2021-12-08 02:48:20.442 python[23095:1419134] Warning: Expected min height of view: (<NSButton: 0x7f7e1c7d35a0>) to be less than or equal to 30 but got a height of 32.000000. This error will be logged once per view in violation.\n",
      "2021-12-08 02:48:20.448 python[23095:1419134] Warning: Expected min height of view: (<NSPopoverTouchBarItemButton: 0x7f7e1c7d3cf0>) to be less than or equal to 30 but got a height of 32.000000. This error will be logged once per view in violation.\n",
      "2021-12-08 02:48:20.452 python[23095:1419134] Warning: Expected min height of view: (<NSPopoverTouchBarItemButton: 0x7f7e4df5c080>) to be less than or equal to 30 but got a height of 32.000000. This error will be logged once per view in violation.\n"
     ]
    },
    {
     "name": "stdout",
     "output_type": "stream",
     "text": [
      "Episode 1: reward: 265.000, steps: 1144\n",
      "Episode 2: reward: 445.000, steps: 1227\n",
      "Episode 3: reward: 210.000, steps: 1223\n",
      "Episode 4: reward: 250.000, steps: 1101\n",
      "Episode 5: reward: 225.000, steps: 517\n",
      "Episode 6: reward: 305.000, steps: 1150\n",
      "Episode 7: reward: 90.000, steps: 516\n",
      "Episode 8: reward: 105.000, steps: 680\n",
      "Episode 9: reward: 160.000, steps: 661\n",
      "Episode 10: reward: 210.000, steps: 749\n",
      "Episode 11: reward: 195.000, steps: 636\n",
      "Episode 12: reward: 165.000, steps: 621\n",
      "Episode 13: reward: 35.000, steps: 383\n",
      "Episode 14: reward: 215.000, steps: 1153\n",
      "Episode 15: reward: 150.000, steps: 636\n",
      "Episode 16: reward: 170.000, steps: 590\n",
      "Episode 17: reward: 150.000, steps: 742\n",
      "Episode 18: reward: 190.000, steps: 572\n",
      "Episode 19: reward: 195.000, steps: 674\n",
      "Episode 20: reward: 290.000, steps: 1089\n",
      "Episode 21: reward: 635.000, steps: 1156\n",
      "Episode 22: reward: 235.000, steps: 848\n",
      "Episode 23: reward: 220.000, steps: 1106\n",
      "Episode 24: reward: 775.000, steps: 1213\n",
      "Episode 25: reward: 220.000, steps: 588\n",
      "Episode 26: reward: 335.000, steps: 1555\n",
      "Episode 27: reward: 200.000, steps: 646\n",
      "Episode 28: reward: 195.000, steps: 1109\n",
      "Episode 29: reward: 235.000, steps: 842\n",
      "Episode 30: reward: 150.000, steps: 543\n",
      "Episode 31: reward: 225.000, steps: 1141\n",
      "Episode 32: reward: 180.000, steps: 973\n",
      "Episode 33: reward: 145.000, steps: 1099\n",
      "Episode 34: reward: 235.000, steps: 854\n",
      "Episode 35: reward: 155.000, steps: 659\n",
      "Episode 36: reward: 695.000, steps: 1201\n",
      "Episode 37: reward: 170.000, steps: 709\n",
      "Episode 38: reward: 190.000, steps: 592\n",
      "Episode 39: reward: 1050.000, steps: 1714\n",
      "Episode 40: reward: 245.000, steps: 709\n",
      "Episode 41: reward: 190.000, steps: 589\n",
      "Episode 42: reward: 425.000, steps: 1125\n",
      "Episode 43: reward: 175.000, steps: 641\n",
      "Episode 44: reward: 165.000, steps: 857\n",
      "Episode 45: reward: 155.000, steps: 649\n",
      "Episode 46: reward: 175.000, steps: 1097\n",
      "Episode 47: reward: 165.000, steps: 617\n",
      "Episode 48: reward: 150.000, steps: 651\n",
      "Episode 49: reward: 250.000, steps: 1139\n",
      "Episode 50: reward: 420.000, steps: 1328\n",
      "Episode 51: reward: 220.000, steps: 1025\n",
      "Episode 52: reward: 225.000, steps: 1102\n",
      "Episode 53: reward: 415.000, steps: 1160\n",
      "Episode 54: reward: 120.000, steps: 480\n",
      "Episode 55: reward: 115.000, steps: 408\n",
      "Episode 56: reward: 165.000, steps: 632\n",
      "Episode 57: reward: 140.000, steps: 961\n",
      "Episode 58: reward: 225.000, steps: 863\n",
      "Episode 59: reward: 235.000, steps: 1103\n",
      "Episode 60: reward: 265.000, steps: 1169\n",
      "Episode 61: reward: 125.000, steps: 730\n",
      "Episode 62: reward: 190.000, steps: 1008\n",
      "Episode 63: reward: 170.000, steps: 667\n",
      "Episode 64: reward: 230.000, steps: 1187\n",
      "Episode 65: reward: 150.000, steps: 1096\n",
      "Episode 66: reward: 140.000, steps: 645\n",
      "Episode 67: reward: 155.000, steps: 802\n",
      "Episode 68: reward: 225.000, steps: 1154\n",
      "Episode 69: reward: 740.000, steps: 1438\n",
      "Episode 70: reward: 265.000, steps: 864\n",
      "Episode 71: reward: 145.000, steps: 679\n",
      "Episode 72: reward: 10.000, steps: 378\n",
      "Episode 73: reward: 150.000, steps: 657\n",
      "Episode 74: reward: 85.000, steps: 507\n",
      "Episode 75: reward: 745.000, steps: 1464\n",
      "Episode 76: reward: 175.000, steps: 640\n",
      "Episode 77: reward: 245.000, steps: 1142\n",
      "Episode 78: reward: 590.000, steps: 1105\n",
      "Episode 79: reward: 225.000, steps: 873\n",
      "Episode 80: reward: 40.000, steps: 394\n",
      "Episode 81: reward: 245.000, steps: 1153\n",
      "Episode 82: reward: 265.000, steps: 620\n",
      "Episode 83: reward: 145.000, steps: 666\n",
      "Episode 84: reward: 140.000, steps: 846\n",
      "Episode 85: reward: 455.000, steps: 776\n",
      "Episode 86: reward: 140.000, steps: 886\n",
      "Episode 87: reward: 70.000, steps: 497\n",
      "Episode 88: reward: 170.000, steps: 992\n",
      "Episode 89: reward: 205.000, steps: 652\n",
      "Episode 90: reward: 170.000, steps: 640\n",
      "Episode 91: reward: 390.000, steps: 1065\n",
      "Episode 92: reward: 220.000, steps: 1128\n",
      "Episode 93: reward: 235.000, steps: 811\n",
      "Episode 94: reward: 225.000, steps: 867\n",
      "Episode 95: reward: 185.000, steps: 640\n",
      "Episode 96: reward: 295.000, steps: 1285\n",
      "Episode 97: reward: 260.000, steps: 1129\n",
      "Episode 98: reward: 330.000, steps: 1235\n",
      "Episode 99: reward: 80.000, steps: 515\n",
      "Episode 100: reward: 250.000, steps: 1232\n",
      "241.8\n"
     ]
    }
   ],
   "source": [
    "scores = dqn.test(env, nb_episodes=100, visualize=True)\n",
    "print(np.mean(scores.history['episode_reward']))"
   ]
  },
  {
   "cell_type": "code",
   "execution_count": 11,
   "metadata": {},
   "outputs": [],
   "source": [
    "import matplotlib.pyplot as plt"
   ]
  },
  {
   "cell_type": "code",
   "execution_count": 21,
   "metadata": {},
   "outputs": [
    {
     "data": {
      "image/png": "[encoded data removed]",
      "text/plain": [
       "<Figure size 1080x720 with 1 Axes>"
      ]
     },
     "metadata": {
      "needs_background": "light"
     },
     "output_type": "display_data"
    }
   ],
   "source": [
    "plt.figure(figsize=(15,10))\n",
    "plt.plot(scores.history['episode_reward'], label = \"Scores/Rewards\")\n",
    "plt.xlabel(\"Episode\")\n",
    "plt.ylabel(\"Score\")\n",
    "plt.title(f\"Learning Curve of\")\n",
    "plt.legend(loc = \"upper right\")\n",
    "plt.show()"
   ]
  },
  {
   "cell_type": "markdown",
   "metadata": {},
   "source": [
    "## Using RMSprop as optimizers and BoltzmanQPolicy "
   ]
  },
  {
   "cell_type": "code",
   "execution_count": 7,
   "metadata": {},
   "outputs": [],
   "source": [
    "def agent2(model, actions):\n",
    "    #policy = LinearAnnealedPolicy(EpsGreedyQPolicy(), attr='eps', value_max=1., value_min=.1, value_test=.2, nb_steps=10000)\n",
    "    policy = BoltzmannQPolicy()\n",
    "    #policy = LinearAnnealedPolicy(BoltzmannQPolicy(), attr='', value_max=1., value_min=.1, value_test=.2, nb_steps=10000)\n",
    "    memory = SequentialMemory(limit=100, window_length=3)\n",
    "    dqn = DQNAgent(model=model, memory=memory, policy=policy,\n",
    "                  enable_dueling_network=True, dueling_type='avg', \n",
    "                   nb_actions=actions, nb_steps_warmup=10\n",
    "                  )\n",
    "    return dqn"
   ]
  },
  {
   "cell_type": "code",
   "execution_count": 8,
   "metadata": {},
   "outputs": [
    {
     "name": "stderr",
     "output_type": "stream",
     "text": [
      "/Users/nathan/opt/anaconda3/envs/machine_lr/lib/python3.9/site-packages/keras/optimizer_v2/optimizer_v2.py:355: UserWarning: The `lr` argument is deprecated, use `learning_rate` instead.\n",
      "  warnings.warn(\n",
      "2021-12-09 04:12:31.820800: I tensorflow/core/platform/cpu_feature_guard.cc:142] This TensorFlow binary is optimized with oneAPI Deep Neural Network Library (oneDNN) to use the following CPU instructions in performance-critical operations:  AVX2 FMA\n",
      "To enable them in other operations, rebuild TensorFlow with the appropriate compiler flags.\n"
     ]
    }
   ],
   "source": [
    "dqn2 = agent2(model, actions)\n",
    "dqn2.compile(RMSprop(lr=1e-4), metrics=['mae'])"
   ]
  },
  {
   "cell_type": "code",
   "execution_count": 9,
   "metadata": {},
   "outputs": [
    {
     "name": "stdout",
     "output_type": "stream",
     "text": [
      "Training for 30 steps ...\n"
     ]
    },
    {
     "name": "stderr",
     "output_type": "stream",
     "text": [
      "/Users/nathan/opt/anaconda3/envs/machine_lr/lib/python3.9/site-packages/keras/engine/training.py:2470: UserWarning: `Model.state_updates` will be removed in a future version. This property should not be used in TensorFlow 2.0, as `updates` are applied automatically.\n",
      "  warnings.warn('`Model.state_updates` will be removed in a future version. '\n",
      "/Users/nathan/opt/anaconda3/envs/machine_lr/lib/python3.9/site-packages/rl/memory.py:37: UserWarning: Not enough entries to sample without replacement. Consider increasing your warm-up phase to avoid oversampling!\n",
      "  warnings.warn('Not enough entries to sample without replacement. Consider increasing your warm-up phase to avoid oversampling!')\n"
     ]
    },
    {
     "name": "stdout",
     "output_type": "stream",
     "text": [
      "done, took 31.779 seconds\n"
     ]
    },
    {
     "data": {
      "text/plain": [
       "<keras.callbacks.History at 0x7fab18a77340>"
      ]
     },
     "execution_count": 9,
     "metadata": {},
     "output_type": "execute_result"
    }
   ],
   "source": [
    "dqn2.fit(env, nb_steps=30, visualize=False, verbose=2)"
   ]
  },
  {
   "cell_type": "code",
   "execution_count": 10,
   "metadata": {
    "scrolled": false
   },
   "outputs": [
    {
     "name": "stdout",
     "output_type": "stream",
     "text": [
      "Testing for 10 episodes ...\n"
     ]
    },
    {
     "name": "stderr",
     "output_type": "stream",
     "text": [
      "/Users/nathan/opt/anaconda3/envs/machine_lr/lib/python3.9/site-packages/gym/envs/atari/environment.py:255: UserWarning: \u001b[33mWARN: We strongly suggest supplying `render_mode` when constructing your environment, e.g., gym.make(ID, render_mode='human'). Using `render_mode` provides access to proper scaling, audio support, and proper framerates.\u001b[0m\n",
      "  logger.warn(\n",
      "2021-12-09 04:13:07.394 python[1583:27076] Warning: Expected min height of view: (<NSPopoverTouchBarItemButton: 0x7fab1ecf3ea0>) to be less than or equal to 30 but got a height of 32.000000. This error will be logged once per view in violation.\n",
      "2021-12-09 04:13:07.395 python[1583:27076] Warning: Expected min height of view: (<NSButton: 0x7faad21a9cc0>) to be less than or equal to 30 but got a height of 32.000000. This error will be logged once per view in violation.\n",
      "2021-12-09 04:13:07.398 python[1583:27076] Warning: Expected min height of view: (<NSPopoverTouchBarItemButton: 0x7faaeb59cee0>) to be less than or equal to 30 but got a height of 32.000000. This error will be logged once per view in violation.\n",
      "2021-12-09 04:13:07.401 python[1583:27076] Warning: Expected min height of view: (<NSPopoverTouchBarItemButton: 0x7faad21abd30>) to be less than or equal to 30 but got a height of 32.000000. This error will be logged once per view in violation.\n"
     ]
    },
    {
     "name": "stdout",
     "output_type": "stream",
     "text": [
      "Episode 1: reward: 485.000, steps: 1029\n",
      "Episode 2: reward: 575.000, steps: 1675\n",
      "Episode 3: reward: 260.000, steps: 1099\n",
      "Episode 4: reward: 265.000, steps: 1040\n",
      "Episode 5: reward: 285.000, steps: 984\n",
      "Episode 6: reward: 570.000, steps: 984\n",
      "Episode 7: reward: 490.000, steps: 1232\n",
      "Episode 8: reward: 335.000, steps: 995\n",
      "Episode 9: reward: 280.000, steps: 846\n",
      "Episode 10: reward: 485.000, steps: 1124\n",
      "403.0\n"
     ]
    }
   ],
   "source": [
    "scores2 = dqn2.test(env, nb_episodes=10, visualize=True)\n",
    "print(np.mean(scores2.history['episode_reward']))"
   ]
  },
  {
   "cell_type": "code",
   "execution_count": 16,
   "metadata": {},
   "outputs": [
    {
     "data": {
      "text/plain": [
       "<Figure size 1080x720 with 0 Axes>"
      ]
     },
     "metadata": {},
     "output_type": "display_data"
    },
    {
     "data": {
      "image/png": "[encoded data removed]",
      "text/plain": [
       "<Figure size 432x288 with 1 Axes>"
      ]
     },
     "metadata": {
      "needs_background": "light"
     },
     "output_type": "display_data"
    }
   ],
   "source": [
    "plt.figure(figsize=(15,10))\n",
    "f, ax = plt.subplots()\n",
    "plt.plot(scores2.history['episode_reward'], label = \"Scores/Rewards\")\n",
    "plt.xlabel(\"Episode\")\n",
    "plt.ylabel(\"Score\")\n",
    "plt.title(f\"Learning Curve of\")\n",
    "plt.legend(loc = \"upper right\")\n",
    "ax.set_ylim(ymin=0)\n",
    "plt.show()"
   ]
  },
  {
   "cell_type": "markdown",
   "metadata": {},
   "source": [
    "# Loading Agent"
   ]
  },
  {
   "cell_type": "code",
   "execution_count": null,
   "metadata": {},
   "outputs": [],
   "source": [
    "dqn.save_weights('SavedWeights/weight_2/dqn_weights.h5f')"
   ]
  },
  {
   "cell_type": "code",
   "execution_count": 12,
   "metadata": {},
   "outputs": [],
   "source": [
    "del model, dqn"
   ]
  },
  {
   "cell_type": "code",
   "execution_count": 17,
   "metadata": {},
   "outputs": [],
   "source": [
    "dqn.load_weights('SavedWeights/weight_1/dqn_weights.h5f')"
   ]
  }
 ],
 "metadata": {
  "kernelspec": {
   "display_name": "Python 3 (ipykernel)",
   "language": "python",
   "name": "python3"
  },
  "language_info": {
   "codemirror_mode": {
    "name": "ipython",
    "version": 3
   },
   "file_extension": ".py",
   "mimetype": "text/x-python",
   "name": "python",
   "nbconvert_exporter": "python",
   "pygments_lexer": "ipython3",
   "version": "3.9.7"
  }
 },
 "nbformat": 4,
 "nbformat_minor": 2
}
